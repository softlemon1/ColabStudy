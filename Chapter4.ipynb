{
  "nbformat": 4,
  "nbformat_minor": 0,
  "metadata": {
    "colab": {
      "provenance": [],
      "history_visible": true,
      "mount_file_id": "1mfxo4_S43JsCy4pAtaXYKO8KJTgKS05E",
      "authorship_tag": "ABX9TyMd6LOwKkdUp8oVZDP19CFG",
      "include_colab_link": true
    },
    "kernelspec": {
      "name": "python3",
      "display_name": "Python 3"
    },
    "language_info": {
      "name": "python"
    },
    "accelerator": "GPU",
    "gpuClass": "standard"
  },
  "cells": [
    {
      "cell_type": "markdown",
      "metadata": {
        "id": "view-in-github",
        "colab_type": "text"
      },
      "source": [
        "<a href=\"https://colab.research.google.com/github/softlemon1/ColabStudy/blob/develop/Chapter4.ipynb\" target=\"_parent\"><img src=\"https://colab.research.google.com/assets/colab-badge.svg\" alt=\"Open In Colab\"/></a>"
      ]
    },
    {
      "cell_type": "code",
      "execution_count": 22,
      "metadata": {
        "colab": {
          "base_uri": "https://localhost:8080/",
          "height": 265
        },
        "id": "gtFNaY7fX19S",
        "outputId": "90bc767d-ab5f-409c-c413-50881e8c213b"
      },
      "outputs": [
        {
          "output_type": "display_data",
          "data": {
            "text/plain": [
              "<Figure size 432x288 with 1 Axes>"
            ],
            "image/png": "[encoded data removed]"
          },
          "metadata": {
            "needs_background": "light"
          }
        }
      ],
      "source": [
        "import numpy as np\n",
        "import matplotlib.pyplot as plt\n",
        "\n",
        "x = np.linspace(1, 5)\n",
        "y = x **2 * 2 \n",
        "\n",
        "plt.plot(x, y)\n",
        "plt.show()"
      ]
    },
    {
      "cell_type": "markdown",
      "source": [],
      "metadata": {
        "id": "VaamaR-M4nbW"
      }
    },
    {
      "cell_type": "code",
      "source": [
        "import pandas as pd\n",
        "import numpy as np\n",
        "\n",
        "a = np.array([0,1,2,3,4,5])\n",
        "a = a.reshape(2,3)\n",
        "b = np.array([[5,4,3],[2,1,0]])\n",
        "\n",
        "print(a + b)"
      ],
      "metadata": {
        "colab": {
          "base_uri": "https://localhost:8080/"
        },
        "id": "qEvDywXTwcVx",
        "outputId": "262a790d-b6a2-43c2-8ee7-b27ae6714ef2"
      },
      "execution_count": 29,
      "outputs": [
        {
          "output_type": "stream",
          "name": "stdout",
          "text": [
            "[[5 5 5]\n",
            " [5 5 5]]\n"
          ]
        }
      ]
    },
    {
      "cell_type": "code",
      "source": [
        "import numpy as np\n",
        "import matplotlib.pyplot as plt\n",
        "\n",
        "x = np.linspace(-4, 4)\n",
        "y = x**3 - 12*x\n",
        "\n",
        "plt.xlabel(\"x\")\n",
        "plt.ylabel(\"y\")\n",
        "plt.plot(x, y)\n",
        "plt.show()"
      ],
      "metadata": {
        "colab": {
          "base_uri": "https://localhost:8080/",
          "height": 279
        },
        "id": "JKaaaBjx01lo",
        "outputId": "f10a7124-bac9-4ff5-b449-6945c38baa01"
      },
      "execution_count": 40,
      "outputs": [
        {
          "output_type": "display_data",
          "data": {
            "text/plain": [
              "<Figure size 432x288 with 1 Axes>"
            ],
            "image/png": "[encoded data removed]"
          },
          "metadata": {
            "needs_background": "light"
          }
        }
      ]
    },
    {
      "cell_type": "code",
      "source": [
        "import numpy as np\n",
        "from sklearn import datasets\n",
        "\n",
        "iris = datasets.load_iris()\n",
        "print(iris.data[:10])\n",
        "print(iris.data.shape)\n",
        "print(iris.target)"
      ],
      "metadata": {
        "colab": {
          "base_uri": "https://localhost:8080/"
        },
        "id": "K1nlydyx4vuY",
        "outputId": "97f9a231-91c0-461e-9ac0-7b488bb1f18d"
      },
      "execution_count": 5,
      "outputs": [
        {
          "output_type": "stream",
          "name": "stdout",
          "text": [
            "[[5.1 3.5 1.4 0.2]\n",
            " [4.9 3.  1.4 0.2]\n",
            " [4.7 3.2 1.3 0.2]\n",
            " [4.6 3.1 1.5 0.2]\n",
            " [5.  3.6 1.4 0.2]\n",
            " [5.4 3.9 1.7 0.4]\n",
            " [4.6 3.4 1.4 0.3]\n",
            " [5.  3.4 1.5 0.2]\n",
            " [4.4 2.9 1.4 0.2]\n",
            " [4.9 3.1 1.5 0.1]]\n",
            "(150, 4)\n",
            "[0 0 0 0 0 0 0 0 0 0 0 0 0 0 0 0 0 0 0 0 0 0 0 0 0 0 0 0 0 0 0 0 0 0 0 0 0\n",
            " 0 0 0 0 0 0 0 0 0 0 0 0 0 1 1 1 1 1 1 1 1 1 1 1 1 1 1 1 1 1 1 1 1 1 1 1 1\n",
            " 1 1 1 1 1 1 1 1 1 1 1 1 1 1 1 1 1 1 1 1 1 1 1 1 1 1 2 2 2 2 2 2 2 2 2 2 2\n",
            " 2 2 2 2 2 2 2 2 2 2 2 2 2 2 2 2 2 2 2 2 2 2 2 2 2 2 2 2 2 2 2 2 2 2 2 2 2\n",
            " 2 2]\n"
          ]
        }
      ]
    },
    {
      "cell_type": "code",
      "source": [
        "from sklearn import preprocessing\n",
        "from keras.utils import np_utils\n",
        "\n",
        "scaler = preprocessing.StandardScaler()\n",
        "scaler.fit(iris.data)\n",
        "x = scaler.transform(iris.data)\n",
        "print(x[:10])\n",
        "\n",
        "t = np_utils.to_categorical(iris.target)\n",
        "print(t[:10])"
      ],
      "metadata": {
        "colab": {
          "base_uri": "https://localhost:8080/"
        },
        "id": "lpNRPY7-5t98",
        "outputId": "e2bb528e-6dbd-4a21-8189-55e43d9bfcf4"
      },
      "execution_count": 6,
      "outputs": [
        {
          "output_type": "stream",
          "name": "stdout",
          "text": [
            "[[-0.90068117  1.01900435 -1.34022653 -1.3154443 ]\n",
            " [-1.14301691 -0.13197948 -1.34022653 -1.3154443 ]\n",
            " [-1.38535265  0.32841405 -1.39706395 -1.3154443 ]\n",
            " [-1.50652052  0.09821729 -1.2833891  -1.3154443 ]\n",
            " [-1.02184904  1.24920112 -1.34022653 -1.3154443 ]\n",
            " [-0.53717756  1.93979142 -1.16971425 -1.05217993]\n",
            " [-1.50652052  0.78880759 -1.34022653 -1.18381211]\n",
            " [-1.02184904  0.78880759 -1.2833891  -1.3154443 ]\n",
            " [-1.74885626 -0.36217625 -1.34022653 -1.3154443 ]\n",
            " [-1.14301691  0.09821729 -1.2833891  -1.44707648]]\n",
            "[[1. 0. 0.]\n",
            " [1. 0. 0.]\n",
            " [1. 0. 0.]\n",
            " [1. 0. 0.]\n",
            " [1. 0. 0.]\n",
            " [1. 0. 0.]\n",
            " [1. 0. 0.]\n",
            " [1. 0. 0.]\n",
            " [1. 0. 0.]\n",
            " [1. 0. 0.]]\n"
          ]
        }
      ]
    },
    {
      "cell_type": "code",
      "source": [
        "from sklearn.model_selection import train_test_split\n",
        "\n",
        "x_train, x_test, t_train, t_test = train_test_split(x,t,\n",
        "train_size = 0.75)"
      ],
      "metadata": {
        "id": "0Vj5oPeh6N6Q"
      },
      "execution_count": 7,
      "outputs": []
    },
    {
      "cell_type": "code",
      "source": [
        "from tensorflow.keras.models import Sequential\n",
        "from tensorflow.keras.layers import Dense, Activation\n",
        "\n",
        "model = Sequential()\n",
        "model.add(Dense(32, input_dim = 4))\n",
        "model.add(Activation('relu'))\n",
        "model.add(Dense(32))\n",
        "model.add(Activation('relu'))\n",
        "model.add(Dense(3))\n",
        "model.add(Activation('softmax'))\n",
        "model.compile(optimizer = 'sgd', loss = 'categorical_crossentropy',\n",
        "              metrics = ['accuracy'])\n",
        "\n",
        "print(model.summary())"
      ],
      "metadata": {
        "colab": {
          "base_uri": "https://localhost:8080/"
        },
        "id": "6t3IcjxM6mQf",
        "outputId": "9212a757-e215-4314-b2d5-cd7ee0d34392"
      },
      "execution_count": 8,
      "outputs": [
        {
          "output_type": "stream",
          "name": "stdout",
          "text": [
            "Model: \"sequential_1\"\n",
            "_________________________________________________________________\n",
            " Layer (type)                Output Shape              Param #   \n",
            "=================================================================\n",
            " dense_3 (Dense)             (None, 32)                160       \n",
            "                                                                 \n",
            " activation_3 (Activation)   (None, 32)                0         \n",
            "                                                                 \n",
            " dense_4 (Dense)             (None, 32)                1056      \n",
            "                                                                 \n",
            " activation_4 (Activation)   (None, 32)                0         \n",
            "                                                                 \n",
            " dense_5 (Dense)             (None, 3)                 99        \n",
            "                                                                 \n",
            " activation_5 (Activation)   (None, 3)                 0         \n",
            "                                                                 \n",
            "=================================================================\n",
            "Total params: 1,315\n",
            "Trainable params: 1,315\n",
            "Non-trainable params: 0\n",
            "_________________________________________________________________\n",
            "None\n"
          ]
        }
      ]
    },
    {
      "cell_type": "code",
      "source": [
        "history = model.fit(x_train, t_train, epochs = 30, batch_size = 8)"
      ],
      "metadata": {
        "colab": {
          "base_uri": "https://localhost:8080/"
        },
        "id": "jurrxBjG7_Nb",
        "outputId": "17bc9e63-2f81-4519-ec86-b3982b3b954e"
      },
      "execution_count": 9,
      "outputs": [
        {
          "output_type": "stream",
          "name": "stdout",
          "text": [
            "Epoch 1/30\n",
            "14/14 [==============================] - 3s 3ms/step - loss: 1.0024 - accuracy: 0.3661\n",
            "Epoch 2/30\n",
            "14/14 [==============================] - 0s 3ms/step - loss: 0.8970 - accuracy: 0.3661\n",
            "Epoch 3/30\n",
            "14/14 [==============================] - 0s 3ms/step - loss: 0.8129 - accuracy: 0.5982\n",
            "Epoch 4/30\n",
            "14/14 [==============================] - 0s 3ms/step - loss: 0.7430 - accuracy: 0.6964\n",
            "Epoch 5/30\n",
            "14/14 [==============================] - 0s 3ms/step - loss: 0.6842 - accuracy: 0.7411\n",
            "Epoch 6/30\n",
            "14/14 [==============================] - 0s 3ms/step - loss: 0.6338 - accuracy: 0.7857\n",
            "Epoch 7/30\n",
            "14/14 [==============================] - 0s 3ms/step - loss: 0.5900 - accuracy: 0.8214\n",
            "Epoch 8/30\n",
            "14/14 [==============================] - 0s 3ms/step - loss: 0.5518 - accuracy: 0.8482\n",
            "Epoch 9/30\n",
            "14/14 [==============================] - 0s 2ms/step - loss: 0.5183 - accuracy: 0.8661\n",
            "Epoch 10/30\n",
            "14/14 [==============================] - 0s 3ms/step - loss: 0.4895 - accuracy: 0.8661\n",
            "Epoch 11/30\n",
            "14/14 [==============================] - 0s 3ms/step - loss: 0.4630 - accuracy: 0.8750\n",
            "Epoch 12/30\n",
            "14/14 [==============================] - 0s 3ms/step - loss: 0.4403 - accuracy: 0.8750\n",
            "Epoch 13/30\n",
            "14/14 [==============================] - 0s 3ms/step - loss: 0.4191 - accuracy: 0.8839\n",
            "Epoch 14/30\n",
            "14/14 [==============================] - 0s 2ms/step - loss: 0.4001 - accuracy: 0.8839\n",
            "Epoch 15/30\n",
            "14/14 [==============================] - 0s 2ms/step - loss: 0.3838 - accuracy: 0.8839\n",
            "Epoch 16/30\n",
            "14/14 [==============================] - 0s 2ms/step - loss: 0.3684 - accuracy: 0.8839\n",
            "Epoch 17/30\n",
            "14/14 [==============================] - 0s 3ms/step - loss: 0.3553 - accuracy: 0.8839\n",
            "Epoch 18/30\n",
            "14/14 [==============================] - 0s 3ms/step - loss: 0.3428 - accuracy: 0.9018\n",
            "Epoch 19/30\n",
            "14/14 [==============================] - 0s 4ms/step - loss: 0.3317 - accuracy: 0.9018\n",
            "Epoch 20/30\n",
            "14/14 [==============================] - 0s 3ms/step - loss: 0.3203 - accuracy: 0.8929\n",
            "Epoch 21/30\n",
            "14/14 [==============================] - 0s 2ms/step - loss: 0.3112 - accuracy: 0.9018\n",
            "Epoch 22/30\n",
            "14/14 [==============================] - 0s 3ms/step - loss: 0.3018 - accuracy: 0.9107\n",
            "Epoch 23/30\n",
            "14/14 [==============================] - 0s 3ms/step - loss: 0.2937 - accuracy: 0.9107\n",
            "Epoch 24/30\n",
            "14/14 [==============================] - 0s 3ms/step - loss: 0.2854 - accuracy: 0.9196\n",
            "Epoch 25/30\n",
            "14/14 [==============================] - 0s 3ms/step - loss: 0.2778 - accuracy: 0.9196\n",
            "Epoch 26/30\n",
            "14/14 [==============================] - 0s 3ms/step - loss: 0.2712 - accuracy: 0.9286\n",
            "Epoch 27/30\n",
            "14/14 [==============================] - 0s 3ms/step - loss: 0.2642 - accuracy: 0.9286\n",
            "Epoch 28/30\n",
            "14/14 [==============================] - 0s 3ms/step - loss: 0.2584 - accuracy: 0.9286\n",
            "Epoch 29/30\n",
            "14/14 [==============================] - 0s 2ms/step - loss: 0.2524 - accuracy: 0.9286\n",
            "Epoch 30/30\n",
            "14/14 [==============================] - 0s 3ms/step - loss: 0.2464 - accuracy: 0.9286\n"
          ]
        }
      ]
    },
    {
      "cell_type": "code",
      "source": [
        "import matplotlib.pyplot as plt\n",
        "\n",
        "hist_loss = history.history['loss']\n",
        "hist_acc = history.history['accuracy']\n",
        "\n",
        "plt.plot(np.arange(len(hist_loss)), hist_loss, label = 'loss')\n",
        "plt.plot(np.arange(len(hist_acc)),\n",
        "         hist_acc, label = 'accuracy')\n",
        "plt.legend()\n",
        "plt.show()"
      ],
      "metadata": {
        "colab": {
          "base_uri": "https://localhost:8080/",
          "height": 265
        },
        "id": "sauDsLYl8Y68",
        "outputId": "ce33d8dd-ee46-4eb8-ff13-9aa7cce3dc44"
      },
      "execution_count": 10,
      "outputs": [
        {
          "output_type": "display_data",
          "data": {
            "text/plain": [
              "<Figure size 432x288 with 1 Axes>"
            ],
            "image/png": "[encoded data removed]"
          },
          "metadata": {
            "needs_background": "light"
          }
        }
      ]
    },
    {
      "cell_type": "code",
      "source": [
        "loss, accuracy = model.evaluate(x_test, t_test)\n",
        "print(\"오차: \", loss, \"정밀도: \", accuracy)"
      ],
      "metadata": {
        "colab": {
          "base_uri": "https://localhost:8080/"
        },
        "id": "BdHVVPim9FAS",
        "outputId": "291ed04a-c810-4919-c837-867ce4fba4ee"
      },
      "execution_count": 11,
      "outputs": [
        {
          "output_type": "stream",
          "name": "stdout",
          "text": [
            "2/2 [==============================] - 0s 12ms/step - loss: 0.2905 - accuracy: 0.9211\n",
            "오차:  0.2904893457889557 정밀도:  0.9210526347160339\n"
          ]
        }
      ]
    },
    {
      "cell_type": "code",
      "source": [
        "y_test = model.predict(x_test)\n",
        "print(y_test[:10])"
      ],
      "metadata": {
        "colab": {
          "base_uri": "https://localhost:8080/"
        },
        "id": "ox530XMN9Ylw",
        "outputId": "ba254d07-e668-47ef-d6a1-7b9b9fc2c6f2"
      },
      "execution_count": 12,
      "outputs": [
        {
          "output_type": "stream",
          "name": "stdout",
          "text": [
            "2/2 [==============================] - 0s 8ms/step\n",
            "[[0.9660621  0.01900149 0.01493632]\n",
            " [0.07243804 0.8062396  0.12132228]\n",
            " [0.00709504 0.0739475  0.91895753]\n",
            " [0.00238017 0.03731884 0.96030104]\n",
            " [0.06795307 0.5337607  0.39828616]\n",
            " [0.96505564 0.01938924 0.01555519]\n",
            " [0.95699626 0.02675907 0.01624466]\n",
            " [0.9732397  0.01430744 0.01245284]\n",
            " [0.01745266 0.49096116 0.4915861 ]\n",
            " [0.08718143 0.6895175  0.22330107]]\n"
          ]
        }
      ]
    },
    {
      "cell_type": "code",
      "source": [
        "from tensorflow.keras.models import load_model\n",
        "\n",
        "model.save('model.h5')\n",
        "load_model('model.h5')"
      ],
      "metadata": {
        "colab": {
          "base_uri": "https://localhost:8080/"
        },
        "id": "VhEgB4hc9qEt",
        "outputId": "c4b3636b-e12a-491a-e7dc-0d722072ed15"
      },
      "execution_count": 13,
      "outputs": [
        {
          "output_type": "execute_result",
          "data": {
            "text/plain": [
              "<keras.engine.sequential.Sequential at 0x7f15636b50a0>"
            ]
          },
          "metadata": {},
          "execution_count": 13
        }
      ]
    },
    {
      "cell_type": "code",
      "source": [
        "import numpy as np\n",
        "\n",
        "from sklearn import datasets\n",
        "from sklearn import preprocessing\n",
        "from sklearn.model_selection import train_test_split\n",
        "from keras.utils import np_utils\n",
        "\n",
        "iris = datasets.load_iris()\n",
        "\n",
        "scaler = preprocessing.StandardScaler()\n",
        "scaler.fit(iris.data)\n",
        "\n",
        "x = scaler.transform(iris.data)\n",
        "t = np_utils.to_categorical(iris.target)\n",
        "\n",
        "x_train, x_test, t_train, t_test = train_test_split(x, t, train_size = 0.75)"
      ],
      "metadata": {
        "id": "tI1GSYQQhdPa"
      },
      "execution_count": 14,
      "outputs": []
    },
    {
      "cell_type": "code",
      "source": [
        "from keras.models import Sequential\n",
        "from keras.layers import Dense, Activation\n",
        "\n",
        "model = Sequential()\n",
        "model.add(Dense(16, input_dim = 4))\n",
        "model.add(Activation('relu'))\n",
        "model.add(Dense(16))\n",
        "model.add(Activation('relu'))\n",
        "model.add(Dense(3))\n",
        "model.add(Activation('softmax'))\n",
        "model.compile(optimizer = 'sgd', loss = 'categorical_crossentropy', metrics = ['accuracy'])\n",
        "\n",
        "print(model.summary())"
      ],
      "metadata": {
        "colab": {
          "base_uri": "https://localhost:8080/"
        },
        "id": "xavekt_AiL4J",
        "outputId": "5fca7d86-9377-40e4-d903-185d23470c8b"
      },
      "execution_count": 17,
      "outputs": [
        {
          "output_type": "stream",
          "name": "stdout",
          "text": [
            "Model: \"sequential_4\"\n",
            "_________________________________________________________________\n",
            " Layer (type)                Output Shape              Param #   \n",
            "=================================================================\n",
            " dense_10 (Dense)            (None, 16)                80        \n",
            "                                                                 \n",
            " activation_9 (Activation)   (None, 16)                0         \n",
            "                                                                 \n",
            " dense_11 (Dense)            (None, 16)                272       \n",
            "                                                                 \n",
            " activation_10 (Activation)  (None, 16)                0         \n",
            "                                                                 \n",
            " dense_12 (Dense)            (None, 3)                 51        \n",
            "                                                                 \n",
            " activation_11 (Activation)  (None, 3)                 0         \n",
            "                                                                 \n",
            "=================================================================\n",
            "Total params: 403\n",
            "Trainable params: 403\n",
            "Non-trainable params: 0\n",
            "_________________________________________________________________\n",
            "None\n"
          ]
        }
      ]
    },
    {
      "cell_type": "code",
      "source": [
        "history = model.fit(x_train, t_train, epochs = 30, batch_size = 8)"
      ],
      "metadata": {
        "colab": {
          "base_uri": "https://localhost:8080/"
        },
        "id": "5HAOOVvLjqSZ",
        "outputId": "f73f979d-6b35-4136-a5af-e91fe8b40062"
      },
      "execution_count": 18,
      "outputs": [
        {
          "output_type": "stream",
          "name": "stdout",
          "text": [
            "Epoch 1/30\n",
            "14/14 [==============================] - 0s 5ms/step - loss: 1.1271 - accuracy: 0.3750\n",
            "Epoch 2/30\n",
            "14/14 [==============================] - 0s 5ms/step - loss: 1.0391 - accuracy: 0.3839\n",
            "Epoch 3/30\n",
            "14/14 [==============================] - 0s 8ms/step - loss: 0.9742 - accuracy: 0.4554\n",
            "Epoch 4/30\n",
            "14/14 [==============================] - 0s 5ms/step - loss: 0.9249 - accuracy: 0.5804\n",
            "Epoch 5/30\n",
            "14/14 [==============================] - 0s 5ms/step - loss: 0.8831 - accuracy: 0.7500\n",
            "Epoch 6/30\n",
            "14/14 [==============================] - 0s 9ms/step - loss: 0.8438 - accuracy: 0.7857\n",
            "Epoch 7/30\n",
            "14/14 [==============================] - 0s 8ms/step - loss: 0.8065 - accuracy: 0.7946\n",
            "Epoch 8/30\n",
            "14/14 [==============================] - 0s 5ms/step - loss: 0.7705 - accuracy: 0.8036\n",
            "Epoch 9/30\n",
            "14/14 [==============================] - 0s 5ms/step - loss: 0.7365 - accuracy: 0.8125\n",
            "Epoch 10/30\n",
            "14/14 [==============================] - 0s 7ms/step - loss: 0.7029 - accuracy: 0.8304\n",
            "Epoch 11/30\n",
            "14/14 [==============================] - 0s 5ms/step - loss: 0.6699 - accuracy: 0.8482\n",
            "Epoch 12/30\n",
            "14/14 [==============================] - 0s 6ms/step - loss: 0.6387 - accuracy: 0.8571\n",
            "Epoch 13/30\n",
            "14/14 [==============================] - 0s 6ms/step - loss: 0.6074 - accuracy: 0.8661\n",
            "Epoch 14/30\n",
            "14/14 [==============================] - 0s 5ms/step - loss: 0.5785 - accuracy: 0.8839\n",
            "Epoch 15/30\n",
            "14/14 [==============================] - 0s 5ms/step - loss: 0.5503 - accuracy: 0.8839\n",
            "Epoch 16/30\n",
            "14/14 [==============================] - 0s 4ms/step - loss: 0.5228 - accuracy: 0.9018\n",
            "Epoch 17/30\n",
            "14/14 [==============================] - 0s 3ms/step - loss: 0.4977 - accuracy: 0.9018\n",
            "Epoch 18/30\n",
            "14/14 [==============================] - 0s 9ms/step - loss: 0.4734 - accuracy: 0.9018\n",
            "Epoch 19/30\n",
            "14/14 [==============================] - 0s 3ms/step - loss: 0.4504 - accuracy: 0.9107\n",
            "Epoch 20/30\n",
            "14/14 [==============================] - 0s 3ms/step - loss: 0.4292 - accuracy: 0.9196\n",
            "Epoch 21/30\n",
            "14/14 [==============================] - 0s 3ms/step - loss: 0.4095 - accuracy: 0.9286\n",
            "Epoch 22/30\n",
            "14/14 [==============================] - 0s 3ms/step - loss: 0.3907 - accuracy: 0.9286\n",
            "Epoch 23/30\n",
            "14/14 [==============================] - 0s 3ms/step - loss: 0.3737 - accuracy: 0.9286\n",
            "Epoch 24/30\n",
            "14/14 [==============================] - 0s 3ms/step - loss: 0.3587 - accuracy: 0.9286\n",
            "Epoch 25/30\n",
            "14/14 [==============================] - 0s 3ms/step - loss: 0.3437 - accuracy: 0.9286\n",
            "Epoch 26/30\n",
            "14/14 [==============================] - 0s 3ms/step - loss: 0.3304 - accuracy: 0.9286\n",
            "Epoch 27/30\n",
            "14/14 [==============================] - 0s 3ms/step - loss: 0.3180 - accuracy: 0.9375\n",
            "Epoch 28/30\n",
            "14/14 [==============================] - 0s 3ms/step - loss: 0.3058 - accuracy: 0.9375\n",
            "Epoch 29/30\n",
            "14/14 [==============================] - 0s 3ms/step - loss: 0.2955 - accuracy: 0.9375\n",
            "Epoch 30/30\n",
            "14/14 [==============================] - 0s 3ms/step - loss: 0.2857 - accuracy: 0.9375\n"
          ]
        }
      ]
    },
    {
      "cell_type": "code",
      "source": [
        "import matplotlib.pyplot as plt\n",
        "\n",
        "hist_loss = history.history['loss']\n",
        "hist_acc = history.history['accuracy']\n",
        "\n",
        "plt.plot(np.arange(len(hist_loss)), hist_loss, label = 'loss')\n",
        "plt.plot(np.arange(len(hist_acc)), hist_acc, label = 'accuracy')\n",
        "plt.legend()\n",
        "plt.show()"
      ],
      "metadata": {
        "colab": {
          "base_uri": "https://localhost:8080/",
          "height": 265
        },
        "id": "wdFo4GOLj6V0",
        "outputId": "f3c96837-8aba-4cf6-e0ef-d910a1ee60b4"
      },
      "execution_count": 20,
      "outputs": [
        {
          "output_type": "display_data",
          "data": {
            "text/plain": [
              "<Figure size 432x288 with 1 Axes>"
            ],
            "image/png": "[encoded data removed]"
          },
          "metadata": {
            "needs_background": "light"
          }
        }
      ]
    },
    {
      "cell_type": "code",
      "source": [
        "loss, accuracy = model.evaluate(x_test, t_test)\n",
        "print(loss, accuracy)"
      ],
      "metadata": {
        "colab": {
          "base_uri": "https://localhost:8080/"
        },
        "id": "63DOe-1mkCeX",
        "outputId": "e6d4802e-3853-4334-ebe1-449738b54f4a"
      },
      "execution_count": 21,
      "outputs": [
        {
          "output_type": "stream",
          "name": "stdout",
          "text": [
            "2/2 [==============================] - 0s 12ms/step - loss: 0.3108 - accuracy: 0.8947\n",
            "0.31084105372428894 0.8947368264198303\n"
          ]
        }
      ]
    },
    {
      "cell_type": "code",
      "source": [
        "model.predict(x_test)"
      ],
      "metadata": {
        "colab": {
          "base_uri": "https://localhost:8080/"
        },
        "id": "c0zCGqq2klbV",
        "outputId": "2991692b-7b28-4821-db56-d3f9ecc8816c"
      },
      "execution_count": 23,
      "outputs": [
        {
          "output_type": "stream",
          "name": "stdout",
          "text": [
            "2/2 [==============================] - 0s 9ms/step\n"
          ]
        },
        {
          "output_type": "execute_result",
          "data": {
            "text/plain": [
              "array([[0.05860932, 0.5895919 , 0.35179874],\n",
              "       [0.93000716, 0.02959799, 0.04039486],\n",
              "       [0.02331241, 0.5396179 , 0.43706977],\n",
              "       [0.9047965 , 0.04186417, 0.05333936],\n",
              "       [0.9372724 , 0.02607786, 0.03664971],\n",
              "       [0.94184536, 0.02356634, 0.03458827],\n",
              "       [0.9204653 , 0.03397321, 0.04556147],\n",
              "       [0.9368973 , 0.02591624, 0.03718643],\n",
              "       [0.08033457, 0.48989385, 0.4297716 ],\n",
              "       [0.9143201 , 0.03724544, 0.04843443],\n",
              "       [0.07434971, 0.7819892 , 0.14366108],\n",
              "       [0.89558786, 0.04602995, 0.0583822 ],\n",
              "       [0.12185472, 0.6799034 , 0.19824189],\n",
              "       [0.9407662 , 0.02426431, 0.03496948],\n",
              "       [0.00135802, 0.05868538, 0.9399566 ],\n",
              "       [0.13271943, 0.40811607, 0.45916453],\n",
              "       [0.00166388, 0.07970376, 0.9186323 ],\n",
              "       [0.00485017, 0.20031592, 0.7948339 ],\n",
              "       [0.00648556, 0.3177049 , 0.67580956],\n",
              "       [0.0097213 , 0.2921159 , 0.69816285],\n",
              "       [0.03689906, 0.7350984 , 0.22800258],\n",
              "       [0.06213966, 0.81013364, 0.12772669],\n",
              "       [0.93370444, 0.02749008, 0.03880548],\n",
              "       [0.8757741 , 0.05904091, 0.065185  ],\n",
              "       [0.04692071, 0.6370648 , 0.3160144 ],\n",
              "       [0.02251764, 0.34136063, 0.63612175],\n",
              "       [0.00667055, 0.3231412 , 0.6701883 ],\n",
              "       [0.00123128, 0.07386369, 0.924905  ],\n",
              "       [0.00171685, 0.20090207, 0.7973811 ],\n",
              "       [0.89369506, 0.04635351, 0.0599514 ],\n",
              "       [0.9292798 , 0.02994674, 0.0407735 ],\n",
              "       [0.9115512 , 0.03704502, 0.05140384],\n",
              "       [0.02901035, 0.9069281 , 0.06406157],\n",
              "       [0.01163193, 0.7411298 , 0.24723823],\n",
              "       [0.00931208, 0.31302503, 0.67766297],\n",
              "       [0.89031893, 0.04907602, 0.06060505],\n",
              "       [0.01377656, 0.2837374 , 0.70248604],\n",
              "       [0.00664128, 0.21508227, 0.7782765 ]], dtype=float32)"
            ]
          },
          "metadata": {},
          "execution_count": 23
        }
      ]
    }
  ]
}